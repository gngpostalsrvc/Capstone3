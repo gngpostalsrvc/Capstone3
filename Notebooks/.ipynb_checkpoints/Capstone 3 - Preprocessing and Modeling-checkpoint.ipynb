{
 "cells": [
  {
   "cell_type": "markdown",
   "id": "8f0fa5ad",
   "metadata": {},
   "source": [
    "# Capstone 3 - Preprocessing and Modeling"
   ]
  },
  {
   "cell_type": "code",
   "execution_count": 1,
   "id": "569699f8",
   "metadata": {},
   "outputs": [],
   "source": [
    "#import the necessary packages\n",
    "import pandas as pd\n",
    "import keras_tuner as kt\n",
    "import matplotlib.pyplot as plt\n",
    "import seaborn as sns\n",
    "from keras.models import Sequential\n",
    "from keras.layers import Dense, Dropout\n",
    "from keras.callbacks import EarlyStopping\n",
    "from keras.utils.np_utils import to_categorical\n",
    "from sklearn.metrics import confusion_matrix\n",
    "from sklearn.model_selection import train_test_split"
   ]
  },
  {
   "cell_type": "code",
   "execution_count": 7,
   "id": "a5f84e9f",
   "metadata": {},
   "outputs": [],
   "source": [
    "#load the data\n",
    "df = pd.read_csv('Data/labeled_verses_vectorized.csv', index_col='Verse')"
   ]
  },
  {
   "cell_type": "markdown",
   "id": "e050ae5a",
   "metadata": {},
   "source": [
    "## Preprocessing"
   ]
  },
  {
   "cell_type": "markdown",
   "id": "aa56f0d7",
   "metadata": {},
   "source": [
    "Before proceeding with modeling, some preprocessing is in order. We need to divide the data into predictor and response variables (which in this case are the embedding vectors and the class labels respectively); encode the categorical variables; and divide both variables into a train-test split. "
   ]
  },
  {
   "cell_type": "code",
   "execution_count": null,
   "id": "f0ae875e",
   "metadata": {},
   "outputs": [],
   "source": [
    "X = df.drop(columns='Stage')\n",
    "y = df['Stage'].replace({'Archaic Biblical Hebrew' : 0, \n",
    "                         'Classical Biblical Hebrew' : 1, \n",
    "                         'Transitional Biblical Hebrew' : 2, \n",
    "                         'Late Biblical Hebrew' : 3})\n",
    "y = to_categorical(y)"
   ]
  },
  {
   "cell_type": "code",
   "execution_count": null,
   "id": "b7b4351f",
   "metadata": {},
   "outputs": [],
   "source": [
    "X_train, X_test, y_train, y_test = train_test_split(X, y, test_size=.2, random_state=42)"
   ]
  },
  {
   "cell_type": "markdown",
   "id": "484f9ffb",
   "metadata": {},
   "source": [
    "## Modeling"
   ]
  },
  {
   "cell_type": "markdown",
   "id": "a4fdd999",
   "metadata": {},
   "source": [
    "We are now ready to design a shallow neural network for classifying the verses of the Hebrew Bible into one of four chronological phases. The initial model will consist of a single dense layer followed by a softmax layer. I will then use Bayesian optimization to tune the following hyperparameters on the basis of accuracy: 1) the size of each dense layer and the dropout rate; 2) the number of dense layers; 3) the activation function; and 4) the weight initialization function for the model. I chose accuracy as the evaluation metric because I would like for the model to pay equal attention to each class. "
   ]
  },
  {
   "cell_type": "markdown",
   "id": "1116c93a",
   "metadata": {},
   "source": [
    "### Tuning Layer Size and Dropout Rate"
   ]
  },
  {
   "cell_type": "markdown",
   "id": "b1607d5a",
   "metadata": {},
   "source": [
    "In the initial stages of tuning, we'll test layer sizes ranging from 32 to 1152 neurons and dropout rates ranging between between 15 and 25%. Because larger dense layers can lead to overfitting, particularly when they become larger than the input vectors, it is important to increase the dropout rate in tandem with layer size. "
   ]
  },
  {
   "cell_type": "code",
   "execution_count": 10,
   "id": "0948c793",
   "metadata": {},
   "outputs": [],
   "source": [
    "n_cols = X.shape[1]\n",
    "\n",
    "def build_model(hp):\n",
    "    model = Sequential()\n",
    "    model.add(Dense(units=hp.Int(\"units\", min_value=32, max_value=1152, step=32), activation=\"relu\", input_shape=(n_cols,)))\n",
    "    model.add(Dropout(rate=hp.Float(\"dropout\", min_value=.15, max_value=.25, step=.01)))\n",
    "    model.add(Dense(4, activation='softmax'))\n",
    "    model.compile(optimizer='adam', loss='categorical_crossentropy', metrics=['accuracy'])\n",
    "    return model"
   ]
  },
  {
   "cell_type": "code",
   "execution_count": 97,
   "id": "df3a6343",
   "metadata": {},
   "outputs": [],
   "source": [
    "tuner = kt.BayesianOptimization(hypermodel=build_model,\n",
    "                                objective='val_accuracy',\n",
    "                                max_trials=30,\n",
    "                                seed=42, \n",
    "                                overwrite=True,\n",
    "                                directory='BH Classification Models',\n",
    "                                project_name='size-tuning')"
   ]
  },
  {
   "cell_type": "markdown",
   "id": "3f823e90",
   "metadata": {},
   "source": [
    "Such a shallow model trains much faster than a transformers model, so we can train the model for 50 epochs. I also implemented early stopping to speed up training even more.  "
   ]
  },
  {
   "cell_type": "code",
   "execution_count": null,
   "id": "7cbcca23",
   "metadata": {},
   "outputs": [],
   "source": [
    "stop_early = EarlyStopping(monitor='val_loss', patience=5)"
   ]
  },
  {
   "cell_type": "code",
   "execution_count": 99,
   "id": "555bd724",
   "metadata": {},
   "outputs": [
    {
     "name": "stdout",
     "output_type": "stream",
     "text": [
      "Trial 30 Complete [00h 00m 02s]\n",
      "val_accuracy: 0.692307710647583\n",
      "\n",
      "Best val_accuracy So Far: 0.7206477522850037\n",
      "Total elapsed time: 00h 01m 57s\n",
      "INFO:tensorflow:Oracle triggered exit\n"
     ]
    }
   ],
   "source": [
    "tuner.search(X_train, y_train, epochs=50, validation_data=(X_test, y_test), callbacks=[stop_early])"
   ]
  },
  {
   "cell_type": "code",
   "execution_count": 100,
   "id": "a7e52fc0",
   "metadata": {},
   "outputs": [
    {
     "name": "stdout",
     "output_type": "stream",
     "text": [
      "Results summary\n",
      "Results in BH Classification Models/size-tuning\n",
      "Showing 10 best trials\n",
      "Objective(name='val_accuracy', direction='max')\n",
      "Trial summary\n",
      "Hyperparameters:\n",
      "units: 576\n",
      "dropout: 0.16\n",
      "Score: 0.7206477522850037\n",
      "Trial summary\n",
      "Hyperparameters:\n",
      "units: 608\n",
      "dropout: 0.16\n",
      "Score: 0.71659916639328\n",
      "Trial summary\n",
      "Hyperparameters:\n",
      "units: 640\n",
      "dropout: 0.16\n",
      "Score: 0.7085019946098328\n",
      "Trial summary\n",
      "Hyperparameters:\n",
      "units: 544\n",
      "dropout: 0.16\n",
      "Score: 0.7085019946098328\n",
      "Trial summary\n",
      "Hyperparameters:\n",
      "units: 576\n",
      "dropout: 0.16\n",
      "Score: 0.7085019946098328\n",
      "Trial summary\n",
      "Hyperparameters:\n",
      "units: 576\n",
      "dropout: 0.16\n",
      "Score: 0.7085019946098328\n",
      "Trial summary\n",
      "Hyperparameters:\n",
      "units: 576\n",
      "dropout: 0.15\n",
      "Score: 0.7085019946098328\n",
      "Trial summary\n",
      "Hyperparameters:\n",
      "units: 576\n",
      "dropout: 0.16\n",
      "Score: 0.7044534683227539\n",
      "Trial summary\n",
      "Hyperparameters:\n",
      "units: 576\n",
      "dropout: 0.16\n",
      "Score: 0.7044534683227539\n",
      "Trial summary\n",
      "Hyperparameters:\n",
      "units: 576\n",
      "dropout: 0.16\n",
      "Score: 0.7044534683227539\n"
     ]
    }
   ],
   "source": [
    "tuner.results_summary()"
   ]
  },
  {
   "cell_type": "markdown",
   "id": "af41b2a2",
   "metadata": {},
   "source": [
    "According to the results summary, a dense layer with 576 nodes followed by a 16% dropout layer yields the best results. "
   ]
  },
  {
   "cell_type": "markdown",
   "id": "cb50f50a",
   "metadata": {},
   "source": [
    "### Tuning Model Depth"
   ]
  },
  {
   "cell_type": "markdown",
   "id": "fed68263",
   "metadata": {},
   "source": [
    "Next we'll investigate whether increasing model depth improves the model's accuracy. "
   ]
  },
  {
   "cell_type": "code",
   "execution_count": 172,
   "id": "18b768a1",
   "metadata": {},
   "outputs": [],
   "source": [
    "def build_model(hp):\n",
    "    model = Sequential()\n",
    "    for i in range(hp.Int(\"num_layers\", 1, 4)):\n",
    "        model.add(Dense(units=576, activation='relu', input_shape=(n_cols,)))\n",
    "        model.add(Dropout(.16))\n",
    "    model.add(Dense(4, activation='softmax'))\n",
    "    model.compile(optimizer='adam', loss='categorical_crossentropy', metrics=['accuracy'])\n",
    "    return model"
   ]
  },
  {
   "cell_type": "code",
   "execution_count": 173,
   "id": "38c3fffa",
   "metadata": {},
   "outputs": [],
   "source": [
    "tuner = kt.BayesianOptimization(hypermodel=build_model,\n",
    "                                objective='val_accuracy',\n",
    "                                max_trials=10,\n",
    "                                seed=42, \n",
    "                                overwrite=True,\n",
    "                                directory='BH Classification Models',\n",
    "                                project_name='depth-tuning')"
   ]
  },
  {
   "cell_type": "code",
   "execution_count": 174,
   "id": "c0b32573",
   "metadata": {},
   "outputs": [
    {
     "name": "stdout",
     "output_type": "stream",
     "text": [
      "Trial 10 Complete [00h 00m 01s]\n",
      "val_accuracy: 0.6963562965393066\n",
      "\n",
      "Best val_accuracy So Far: 0.71659916639328\n",
      "Total elapsed time: 00h 00m 49s\n",
      "INFO:tensorflow:Oracle triggered exit\n"
     ]
    }
   ],
   "source": [
    "tuner.search(X_train, y_train, epochs=50, validation_data=(X_test, y_test), callbacks=[stop_early])"
   ]
  },
  {
   "cell_type": "code",
   "execution_count": 175,
   "id": "d87d7926",
   "metadata": {},
   "outputs": [
    {
     "name": "stdout",
     "output_type": "stream",
     "text": [
      "Results summary\n",
      "Results in BH Classification Models/depth-tuning\n",
      "Showing 10 best trials\n",
      "Objective(name='val_accuracy', direction='max')\n",
      "Trial summary\n",
      "Hyperparameters:\n",
      "num_layers: 3\n",
      "Score: 0.71659916639328\n",
      "Trial summary\n",
      "Hyperparameters:\n",
      "num_layers: 3\n",
      "Score: 0.71659916639328\n",
      "Trial summary\n",
      "Hyperparameters:\n",
      "num_layers: 4\n",
      "Score: 0.7085019946098328\n",
      "Trial summary\n",
      "Hyperparameters:\n",
      "num_layers: 1\n",
      "Score: 0.7044534683227539\n",
      "Trial summary\n",
      "Hyperparameters:\n",
      "num_layers: 3\n",
      "Score: 0.7044534683227539\n",
      "Trial summary\n",
      "Hyperparameters:\n",
      "num_layers: 2\n",
      "Score: 0.7044534683227539\n",
      "Trial summary\n",
      "Hyperparameters:\n",
      "num_layers: 1\n",
      "Score: 0.6963562965393066\n",
      "Trial summary\n",
      "Hyperparameters:\n",
      "num_layers: 3\n",
      "Score: 0.692307710647583\n",
      "Trial summary\n",
      "Hyperparameters:\n",
      "num_layers: 4\n",
      "Score: 0.6882591247558594\n",
      "Trial summary\n",
      "Hyperparameters:\n",
      "num_layers: 3\n",
      "Score: 0.6761133670806885\n"
     ]
    }
   ],
   "source": [
    "tuner.results_summary()"
   ]
  },
  {
   "cell_type": "raw",
   "id": "e87f8254",
   "metadata": {},
   "source": [
    "The results suggest that a model with three dense layers yields the best results. "
   ]
  },
  {
   "cell_type": "markdown",
   "id": "34f8bc76",
   "metadata": {},
   "source": [
    "### Tuning the Activation Function"
   ]
  },
  {
   "cell_type": "markdown",
   "id": "67b59f8d",
   "metadata": {},
   "source": [
    "Next we'll examine the effect of four different activation functions (relu, tanh, selu, and softsign) on model performance. "
   ]
  },
  {
   "cell_type": "code",
   "execution_count": 176,
   "id": "70afdff9",
   "metadata": {},
   "outputs": [],
   "source": [
    "def build_model(hp):\n",
    "    model = Sequential()\n",
    "    for i in range(3):\n",
    "        model.add(Dense(units=576, activation=hp.Choice(\"activation\", ['relu', 'tanh', 'selu', 'softsign']), input_shape=(n_cols,)))\n",
    "        model.add(Dropout(.16))\n",
    "    model.add(Dense(4, activation='softmax'))\n",
    "    model.compile(optimizer='adam', loss='categorical_crossentropy', metrics=['accuracy'])\n",
    "    return model"
   ]
  },
  {
   "cell_type": "code",
   "execution_count": 177,
   "id": "fc7bdabe",
   "metadata": {},
   "outputs": [],
   "source": [
    "tuner = kt.BayesianOptimization(hypermodel=build_model,\n",
    "                                objective='val_accuracy',\n",
    "                                max_trials=10,\n",
    "                                seed=42, \n",
    "                                overwrite=True,\n",
    "                                directory='BH Classification Models',\n",
    "                                project_name='activation-tuning')"
   ]
  },
  {
   "cell_type": "code",
   "execution_count": 178,
   "id": "bd3ac964",
   "metadata": {},
   "outputs": [
    {
     "name": "stdout",
     "output_type": "stream",
     "text": [
      "Trial 10 Complete [00h 00m 03s]\n",
      "val_accuracy: 0.7206477522850037\n",
      "\n",
      "Best val_accuracy So Far: 0.7206477522850037\n",
      "Total elapsed time: 00h 00m 41s\n",
      "INFO:tensorflow:Oracle triggered exit\n"
     ]
    }
   ],
   "source": [
    "tuner.search(X_train, y_train, epochs=50, validation_data=(X_test, y_test), callbacks=[stop_early])"
   ]
  },
  {
   "cell_type": "code",
   "execution_count": 179,
   "id": "36665419",
   "metadata": {},
   "outputs": [
    {
     "name": "stdout",
     "output_type": "stream",
     "text": [
      "Results summary\n",
      "Results in BH Classification Models/activation-tuning\n",
      "Showing 10 best trials\n",
      "Objective(name='val_accuracy', direction='max')\n",
      "Trial summary\n",
      "Hyperparameters:\n",
      "activation: relu\n",
      "Score: 0.7206477522850037\n",
      "Trial summary\n",
      "Hyperparameters:\n",
      "activation: softsign\n",
      "Score: 0.7044534683227539\n",
      "Trial summary\n",
      "Hyperparameters:\n",
      "activation: softsign\n",
      "Score: 0.7004048824310303\n",
      "Trial summary\n",
      "Hyperparameters:\n",
      "activation: relu\n",
      "Score: 0.6963562965393066\n",
      "Trial summary\n",
      "Hyperparameters:\n",
      "activation: relu\n",
      "Score: 0.692307710647583\n",
      "Trial summary\n",
      "Hyperparameters:\n",
      "activation: softsign\n",
      "Score: 0.6882591247558594\n",
      "Trial summary\n",
      "Hyperparameters:\n",
      "activation: softsign\n",
      "Score: 0.6842105388641357\n",
      "Trial summary\n",
      "Hyperparameters:\n",
      "activation: softsign\n",
      "Score: 0.6842105388641357\n",
      "Trial summary\n",
      "Hyperparameters:\n",
      "activation: selu\n",
      "Score: 0.6801619529724121\n",
      "Trial summary\n",
      "Hyperparameters:\n",
      "activation: softsign\n",
      "Score: 0.6801619529724121\n"
     ]
    }
   ],
   "source": [
    "tuner.results_summary()"
   ]
  },
  {
   "cell_type": "markdown",
   "id": "b46ae9cd",
   "metadata": {},
   "source": [
    "A relu activation function delivers the best results by a wide margin.  "
   ]
  },
  {
   "cell_type": "markdown",
   "id": "2888040f",
   "metadata": {},
   "source": [
    "### Tuning the Weight Initializer"
   ]
  },
  {
   "cell_type": "markdown",
   "id": "1ac7a1ad",
   "metadata": {},
   "source": [
    "Finally, we'll examine the effect of weight initialization kernel on model performance. For deep neural networks using a relu activation function, the He kernel can prevent exploding gradients. Since our model is fairly shallow, I'll be curious to see whether the He kernel out performs the default Glorot kernel. "
   ]
  },
  {
   "cell_type": "code",
   "execution_count": 12,
   "id": "f8c3bace",
   "metadata": {},
   "outputs": [],
   "source": [
    "def build_model(hp):\n",
    "    model = Sequential()\n",
    "    for i in range(3):\n",
    "        model.add(Dense(units=576, activation='relu', kernel_initializer=hp.Choice(\"kernel\", ['glorot_normal', 'he_normal']), input_shape=(n_cols,)))\n",
    "        model.add(Dropout(.16))\n",
    "    model.add(Dense(4, activation='softmax'))\n",
    "    model.compile(optimizer='adam', loss='categorical_crossentropy', metrics=['accuracy'])\n",
    "    return model"
   ]
  },
  {
   "cell_type": "code",
   "execution_count": 13,
   "id": "3b825a28",
   "metadata": {},
   "outputs": [],
   "source": [
    "tuner = kt.BayesianOptimization(hypermodel=build_model,\n",
    "                                objective='val_accuracy',\n",
    "                                max_trials=10,\n",
    "                                seed=42, \n",
    "                                overwrite=True,\n",
    "                                directory='BH Classification Models',\n",
    "                                project_name='initialization-tuning')"
   ]
  },
  {
   "cell_type": "code",
   "execution_count": 14,
   "id": "3e94e705",
   "metadata": {},
   "outputs": [
    {
     "name": "stdout",
     "output_type": "stream",
     "text": [
      "Trial 10 Complete [00h 00m 02s]\n",
      "val_accuracy: 0.7085020542144775\n",
      "\n",
      "Best val_accuracy So Far: 0.7246963977813721\n",
      "Total elapsed time: 00h 00m 35s\n",
      "INFO:tensorflow:Oracle triggered exit\n"
     ]
    }
   ],
   "source": [
    "tuner.search(X_train, y_train, epochs=50, validation_data=(X_test, y_test), callbacks=[stop_early])"
   ]
  },
  {
   "cell_type": "code",
   "execution_count": 15,
   "id": "ce399859",
   "metadata": {},
   "outputs": [
    {
     "name": "stdout",
     "output_type": "stream",
     "text": [
      "Results summary\n",
      "Results in BH Classification Models/initialization-tuning\n",
      "Showing 10 best trials\n",
      "Objective(name='val_accuracy', direction='max')\n",
      "Trial summary\n",
      "Hyperparameters:\n",
      "kernel: he_normal\n",
      "Score: 0.7246963977813721\n",
      "Trial summary\n",
      "Hyperparameters:\n",
      "kernel: he_normal\n",
      "Score: 0.7125506401062012\n",
      "Trial summary\n",
      "Hyperparameters:\n",
      "kernel: he_normal\n",
      "Score: 0.7085020542144775\n",
      "Trial summary\n",
      "Hyperparameters:\n",
      "kernel: he_normal\n",
      "Score: 0.7044534683227539\n",
      "Trial summary\n",
      "Hyperparameters:\n",
      "kernel: he_normal\n",
      "Score: 0.7044534683227539\n",
      "Trial summary\n",
      "Hyperparameters:\n",
      "kernel: he_normal\n",
      "Score: 0.7004048824310303\n",
      "Trial summary\n",
      "Hyperparameters:\n",
      "kernel: he_normal\n",
      "Score: 0.6963562965393066\n",
      "Trial summary\n",
      "Hyperparameters:\n",
      "kernel: he_normal\n",
      "Score: 0.692307710647583\n",
      "Trial summary\n",
      "Hyperparameters:\n",
      "kernel: glorot_normal\n",
      "Score: 0.6842105388641357\n",
      "Trial summary\n",
      "Hyperparameters:\n",
      "kernel: he_normal\n",
      "Score: 0.6720647811889648\n"
     ]
    }
   ],
   "source": [
    "tuner.results_summary()"
   ]
  },
  {
   "cell_type": "markdown",
   "id": "8548fb93",
   "metadata": {},
   "source": [
    "It turns out that our model is too shallow for the He initialization kernel to make a difference. The Glorot initialization kernel yields better results. "
   ]
  },
  {
   "cell_type": "markdown",
   "id": "0a14fabc",
   "metadata": {},
   "source": [
    "## Assessing performance"
   ]
  },
  {
   "cell_type": "markdown",
   "id": "48eb0bcf",
   "metadata": {},
   "source": [
    "Although the final model achieved 72.5% accuracy on the test set, this metric doesn't tell us how the model performed on individual classes. To assess that aspect of model performance, let's look at the confusion matrix. "
   ]
  },
  {
   "cell_type": "code",
   "execution_count": 16,
   "id": "b026b7c4",
   "metadata": {},
   "outputs": [],
   "source": [
    "models = tuner.get_best_models(num_models=2)\n",
    "best_model = models[0]"
   ]
  },
  {
   "cell_type": "code",
   "execution_count": 17,
   "id": "d7a2af81",
   "metadata": {},
   "outputs": [],
   "source": [
    "best_model.build()"
   ]
  },
  {
   "cell_type": "code",
   "execution_count": 18,
   "id": "c055a18c",
   "metadata": {},
   "outputs": [],
   "source": [
    "y_prob = best_model.predict(X_test)\n",
    "y_pred = y_prob.argmax(axis=-1)\n",
    "\n",
    "y_true = y_test.argmax(axis=-1)"
   ]
  },
  {
   "cell_type": "code",
   "execution_count": 19,
   "id": "447f0eb3",
   "metadata": {},
   "outputs": [
    {
     "data": {
      "image/png": "[encoded data removed]",
      "text/plain": [
       "<Figure size 432x288 with 2 Axes>"
      ]
     },
     "metadata": {
      "needs_background": "light"
     },
     "output_type": "display_data"
    }
   ],
   "source": [
    "labels=['ABH', 'CBH', 'TBH', 'LBH']\n",
    "\n",
    "sns.heatmap(confusion_matrix(y_true, y_pred), annot=True, xticklabels=labels, yticklabels=labels)\n",
    "plt.xlabel('Predicted Label')\n",
    "plt.ylabel('True Label')\n",
    "plt.show();"
   ]
  },
  {
   "cell_type": "markdown",
   "id": "818edc08",
   "metadata": {},
   "source": [
    "The model does an excellent job of identifying ABH and--to a lesser extent--LBH and CBH, but struggles with TBH. This result is consistent with the results of exploratory data analysis, which showed that TBH overlapped significantly with ABH and CBH. "
   ]
  },
  {
   "cell_type": "markdown",
   "id": "294dac70",
   "metadata": {},
   "source": [
    "## Further Tweaks"
   ]
  },
  {
   "cell_type": "markdown",
   "id": "56761f3b",
   "metadata": {},
   "source": [
    "Because the training set was incredibly small (1228 verses), I'm curious to see whether using a larger training set leads to improved accuracy. To do so, I will train the best model using the full labeled data set (8492 verses) and assess its performance. "
   ]
  },
  {
   "cell_type": "code",
   "execution_count": 2,
   "id": "bc523882",
   "metadata": {},
   "outputs": [
    {
     "name": "stderr",
     "output_type": "stream",
     "text": [
      "<ipython-input-2-901b8321ce4e>:1: DtypeWarning: Columns (1) have mixed types. Specify dtype option on import or set low_memory=False.\n",
      "  df2 = pd.read_csv('labeled_verses_vectorized2.csv', index_col='Verse')\n"
     ]
    }
   ],
   "source": [
    "df2 = pd.read_csv('Data/labeled_verses_vectorized2.csv', index_col='Verse')"
   ]
  },
  {
   "cell_type": "code",
   "execution_count": 249,
   "id": "db075fc8",
   "metadata": {},
   "outputs": [],
   "source": [
    "df2.fillna('Late Biblical Hebrew', inplace=True)"
   ]
  },
  {
   "cell_type": "code",
   "execution_count": 250,
   "id": "37a5fc1e",
   "metadata": {},
   "outputs": [],
   "source": [
    "X2 = df2.drop(columns='Stage')\n",
    "y2 = df2['Stage'].replace({'Archaic Biblical Hebrew' : 0, \n",
    "                         'Classical Biblical Hebrew' : 1, \n",
    "                         'Transitional Biblical Hebrew' : 2, \n",
    "                         'Late Biblical Hebrew' : 3})\n",
    "y2 = to_categorical(y2)"
   ]
  },
  {
   "cell_type": "code",
   "execution_count": 251,
   "id": "4d9da162",
   "metadata": {},
   "outputs": [],
   "source": [
    "X2_train, X2_test, y2_train, y2_test = train_test_split(X2, y2, test_size=.2, random_state=42)"
   ]
  },
  {
   "cell_type": "code",
   "execution_count": 252,
   "id": "29fe4bcb",
   "metadata": {},
   "outputs": [
    {
     "name": "stdout",
     "output_type": "stream",
     "text": [
      "Epoch 1/50\n",
      "213/213 [==============================] - 1s 4ms/step - loss: 0.8076 - accuracy: 0.6800 - val_loss: 0.7177 - val_accuracy: 0.7087\n",
      "Epoch 2/50\n",
      "213/213 [==============================] - 0s 2ms/step - loss: 0.7112 - accuracy: 0.7159 - val_loss: 0.7052 - val_accuracy: 0.7187\n",
      "Epoch 3/50\n",
      "213/213 [==============================] - 0s 2ms/step - loss: 0.6872 - accuracy: 0.7216 - val_loss: 0.6757 - val_accuracy: 0.7281\n",
      "Epoch 4/50\n",
      "213/213 [==============================] - 0s 2ms/step - loss: 0.6714 - accuracy: 0.7337 - val_loss: 0.6922 - val_accuracy: 0.7187\n",
      "Epoch 5/50\n",
      "213/213 [==============================] - 0s 2ms/step - loss: 0.6578 - accuracy: 0.7316 - val_loss: 0.6671 - val_accuracy: 0.7216\n",
      "Epoch 6/50\n",
      "213/213 [==============================] - 0s 2ms/step - loss: 0.6468 - accuracy: 0.7402 - val_loss: 0.6663 - val_accuracy: 0.7322\n",
      "Epoch 7/50\n",
      "213/213 [==============================] - 0s 2ms/step - loss: 0.6335 - accuracy: 0.7449 - val_loss: 0.6741 - val_accuracy: 0.7240\n",
      "Epoch 8/50\n",
      "213/213 [==============================] - 0s 2ms/step - loss: 0.6290 - accuracy: 0.7455 - val_loss: 0.6526 - val_accuracy: 0.7251\n",
      "Epoch 9/50\n",
      "213/213 [==============================] - 0s 2ms/step - loss: 0.6160 - accuracy: 0.7512 - val_loss: 0.6502 - val_accuracy: 0.7351\n",
      "Epoch 10/50\n",
      "213/213 [==============================] - 0s 2ms/step - loss: 0.6112 - accuracy: 0.7521 - val_loss: 0.6575 - val_accuracy: 0.7281\n",
      "Epoch 11/50\n",
      "213/213 [==============================] - 0s 2ms/step - loss: 0.6035 - accuracy: 0.7553 - val_loss: 0.6970 - val_accuracy: 0.7098\n",
      "Epoch 12/50\n",
      "213/213 [==============================] - 0s 2ms/step - loss: 0.5990 - accuracy: 0.7543 - val_loss: 0.6690 - val_accuracy: 0.7375\n",
      "Epoch 13/50\n",
      "213/213 [==============================] - 1s 4ms/step - loss: 0.6011 - accuracy: 0.7574 - val_loss: 0.6446 - val_accuracy: 0.7422\n",
      "Epoch 14/50\n",
      "213/213 [==============================] - 1s 3ms/step - loss: 0.5953 - accuracy: 0.7592 - val_loss: 0.6446 - val_accuracy: 0.7381\n",
      "Epoch 15/50\n",
      "213/213 [==============================] - 0s 2ms/step - loss: 0.5843 - accuracy: 0.7612 - val_loss: 0.6622 - val_accuracy: 0.7322\n",
      "Epoch 16/50\n",
      "213/213 [==============================] - 0s 2ms/step - loss: 0.5911 - accuracy: 0.7643 - val_loss: 0.6416 - val_accuracy: 0.7328\n",
      "Epoch 17/50\n",
      "213/213 [==============================] - 0s 2ms/step - loss: 0.5832 - accuracy: 0.7625 - val_loss: 0.6508 - val_accuracy: 0.7328\n",
      "Epoch 18/50\n",
      "213/213 [==============================] - 1s 3ms/step - loss: 0.5818 - accuracy: 0.7646 - val_loss: 0.6484 - val_accuracy: 0.7393\n",
      "Epoch 19/50\n",
      "213/213 [==============================] - 1s 3ms/step - loss: 0.5768 - accuracy: 0.7692 - val_loss: 0.6471 - val_accuracy: 0.7487\n",
      "Epoch 20/50\n",
      "213/213 [==============================] - 1s 3ms/step - loss: 0.5706 - accuracy: 0.7665 - val_loss: 0.6527 - val_accuracy: 0.7322\n",
      "Epoch 21/50\n",
      "213/213 [==============================] - 1s 2ms/step - loss: 0.5706 - accuracy: 0.7687 - val_loss: 0.6363 - val_accuracy: 0.7428\n",
      "Epoch 22/50\n",
      "213/213 [==============================] - 0s 2ms/step - loss: 0.5659 - accuracy: 0.7705 - val_loss: 0.6495 - val_accuracy: 0.7334\n",
      "Epoch 23/50\n",
      "213/213 [==============================] - 0s 2ms/step - loss: 0.5687 - accuracy: 0.7673 - val_loss: 0.6500 - val_accuracy: 0.7369\n",
      "Epoch 24/50\n",
      "213/213 [==============================] - 1s 3ms/step - loss: 0.5653 - accuracy: 0.7734 - val_loss: 0.6456 - val_accuracy: 0.7387\n",
      "Epoch 25/50\n",
      "213/213 [==============================] - 1s 3ms/step - loss: 0.5605 - accuracy: 0.7724 - val_loss: 0.6529 - val_accuracy: 0.7275\n",
      "Epoch 26/50\n",
      "213/213 [==============================] - 0s 2ms/step - loss: 0.5593 - accuracy: 0.7773 - val_loss: 0.6536 - val_accuracy: 0.7375\n"
     ]
    },
    {
     "data": {
      "text/plain": [
       "<keras.callbacks.History at 0x7fc0a1b59d60>"
      ]
     },
     "execution_count": 252,
     "metadata": {},
     "output_type": "execute_result"
    }
   ],
   "source": [
    "model2 = Sequential()\n",
    "for i in range(3):\n",
    "    model.add(Dense(units=576, activation='relu', input_shape=(n_cols,)))\n",
    "    model.add(Dropout(.16))\n",
    "model2.add(Dense(4, activation='softmax'))\n",
    "model2.compile(optimizer='adam', loss='categorical_crossentropy', metrics=['accuracy'])\n",
    "model2.fit(X2_train, y2_train, epochs=50, validation_data=(X2_test, y2_test), callbacks=[stop_early])"
   ]
  },
  {
   "cell_type": "code",
   "execution_count": 264,
   "id": "79501cba",
   "metadata": {},
   "outputs": [],
   "source": [
    "y2_prob = model2.predict(X2_test)\n",
    "y2_pred = y2_prob.argmax(axis=-1)\n",
    "\n",
    "y2_true = y2_test.argmax(axis=-1)"
   ]
  },
  {
   "cell_type": "code",
   "execution_count": 266,
   "id": "96cb8e46",
   "metadata": {},
   "outputs": [
    {
     "data": {
      "image/png": "[encoded data removed]",
      "text/plain": [
       "<Figure size 432x288 with 2 Axes>"
      ]
     },
     "metadata": {
      "needs_background": "light"
     },
     "output_type": "display_data"
    }
   ],
   "source": [
    "labels=['ABH', 'CBH', 'TBH', 'LBH']\n",
    "\n",
    "sns.heatmap(confusion_matrix(y2_true, y2_pred), annot=True, xticklabels=labels, yticklabels=labels)\n",
    "plt.xlabel('Predicted Label')\n",
    "plt.ylabel('True Label')\n",
    "plt.show();"
   ]
  },
  {
   "cell_type": "markdown",
   "id": "8d07c4a4",
   "metadata": {},
   "source": [
    "Training the model on the full labeled data set yields a maximum accuracy of 74.9% on the test data, representing a gain of 2.4% over training the model on a subsample. But this gain comes at a price: the almost complete inability of the model to distinguish ABH from the other classes. In my opinion, this trade-off is not worth it. Going forward, I plan to explore other options for dealing with the imbalanced nature of the labeled data, such as upsampling the ABH data. "
   ]
  }
 ],
 "metadata": {
  "kernelspec": {
   "display_name": "Python 3 (ipykernel)",
   "language": "python",
   "name": "python3"
  },
  "language_info": {
   "codemirror_mode": {
    "name": "ipython",
    "version": 3
   },
   "file_extension": ".py",
   "mimetype": "text/x-python",
   "name": "python",
   "nbconvert_exporter": "python",
   "pygments_lexer": "ipython3",
   "version": "3.9.10"
  }
 },
 "nbformat": 4,
 "nbformat_minor": 5
}
